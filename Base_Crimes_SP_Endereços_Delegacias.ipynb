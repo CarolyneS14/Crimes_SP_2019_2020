{
  "nbformat": 4,
  "nbformat_minor": 0,
  "metadata": {
    "colab": {
      "provenance": [],
      "mount_file_id": "1ihhcgKT96jBTv331adNjlbGnGmW015A4",
      "authorship_tag": "ABX9TyPzytKaArKlYmyflvep3gco",
      "include_colab_link": true
    },
    "kernelspec": {
      "name": "python3",
      "display_name": "Python 3"
    },
    "language_info": {
      "name": "python"
    }
  },
  "cells": [
    {
      "cell_type": "markdown",
      "metadata": {
        "id": "view-in-github",
        "colab_type": "text"
      },
      "source": [
        "<a href=\"https://colab.research.google.com/github/CarolyneS14/Crimes_SP_2019_2020/blob/main/Base_Crimes_SP_Endere%C3%A7os_Delegacias.ipynb\" target=\"_parent\"><img src=\"https://colab.research.google.com/assets/colab-badge.svg\" alt=\"Open In Colab\"/></a>"
      ]
    },
    {
      "cell_type": "code",
      "source": [
        "import pandas as pd"
      ],
      "metadata": {
        "id": "i8JxfdxsjgEj"
      },
      "execution_count": 1,
      "outputs": []
    },
    {
      "cell_type": "code",
      "source": [
        "!pip install --upgrade google-cloud-bigquery"
      ],
      "metadata": {
        "colab": {
          "base_uri": "https://localhost:8080/"
        },
        "id": "DxFcxiA6tkDm",
        "outputId": "61557163-ddc9-49ab-d514-c36f325e0815"
      },
      "execution_count": 2,
      "outputs": [
        {
          "output_type": "stream",
          "name": "stdout",
          "text": [
            "Requirement already satisfied: google-cloud-bigquery in /usr/local/lib/python3.10/dist-packages (3.25.0)\n",
            "Requirement already satisfied: google-api-core!=2.0.*,!=2.1.*,!=2.10.*,!=2.2.*,!=2.3.*,!=2.4.*,!=2.5.*,!=2.6.*,!=2.7.*,!=2.8.*,!=2.9.*,<3.0.0dev,>=1.34.1 in /usr/local/lib/python3.10/dist-packages (from google-api-core[grpc]!=2.0.*,!=2.1.*,!=2.10.*,!=2.2.*,!=2.3.*,!=2.4.*,!=2.5.*,!=2.6.*,!=2.7.*,!=2.8.*,!=2.9.*,<3.0.0dev,>=1.34.1->google-cloud-bigquery) (2.19.1)\n",
            "Requirement already satisfied: google-auth<3.0.0dev,>=2.14.1 in /usr/local/lib/python3.10/dist-packages (from google-cloud-bigquery) (2.27.0)\n",
            "Requirement already satisfied: google-cloud-core<3.0.0dev,>=1.6.0 in /usr/local/lib/python3.10/dist-packages (from google-cloud-bigquery) (2.4.1)\n",
            "Requirement already satisfied: google-resumable-media<3.0dev,>=0.6.0 in /usr/local/lib/python3.10/dist-packages (from google-cloud-bigquery) (2.7.1)\n",
            "Requirement already satisfied: packaging>=20.0.0 in /usr/local/lib/python3.10/dist-packages (from google-cloud-bigquery) (24.1)\n",
            "Requirement already satisfied: python-dateutil<3.0dev,>=2.7.2 in /usr/local/lib/python3.10/dist-packages (from google-cloud-bigquery) (2.8.2)\n",
            "Requirement already satisfied: requests<3.0.0dev,>=2.21.0 in /usr/local/lib/python3.10/dist-packages (from google-cloud-bigquery) (2.31.0)\n",
            "Requirement already satisfied: googleapis-common-protos<2.0.dev0,>=1.56.2 in /usr/local/lib/python3.10/dist-packages (from google-api-core!=2.0.*,!=2.1.*,!=2.10.*,!=2.2.*,!=2.3.*,!=2.4.*,!=2.5.*,!=2.6.*,!=2.7.*,!=2.8.*,!=2.9.*,<3.0.0dev,>=1.34.1->google-api-core[grpc]!=2.0.*,!=2.1.*,!=2.10.*,!=2.2.*,!=2.3.*,!=2.4.*,!=2.5.*,!=2.6.*,!=2.7.*,!=2.8.*,!=2.9.*,<3.0.0dev,>=1.34.1->google-cloud-bigquery) (1.63.2)\n",
            "Requirement already satisfied: protobuf!=3.20.0,!=3.20.1,!=4.21.0,!=4.21.1,!=4.21.2,!=4.21.3,!=4.21.4,!=4.21.5,<6.0.0.dev0,>=3.19.5 in /usr/local/lib/python3.10/dist-packages (from google-api-core!=2.0.*,!=2.1.*,!=2.10.*,!=2.2.*,!=2.3.*,!=2.4.*,!=2.5.*,!=2.6.*,!=2.7.*,!=2.8.*,!=2.9.*,<3.0.0dev,>=1.34.1->google-api-core[grpc]!=2.0.*,!=2.1.*,!=2.10.*,!=2.2.*,!=2.3.*,!=2.4.*,!=2.5.*,!=2.6.*,!=2.7.*,!=2.8.*,!=2.9.*,<3.0.0dev,>=1.34.1->google-cloud-bigquery) (3.20.3)\n",
            "Requirement already satisfied: proto-plus<2.0.0dev,>=1.22.3 in /usr/local/lib/python3.10/dist-packages (from google-api-core!=2.0.*,!=2.1.*,!=2.10.*,!=2.2.*,!=2.3.*,!=2.4.*,!=2.5.*,!=2.6.*,!=2.7.*,!=2.8.*,!=2.9.*,<3.0.0dev,>=1.34.1->google-api-core[grpc]!=2.0.*,!=2.1.*,!=2.10.*,!=2.2.*,!=2.3.*,!=2.4.*,!=2.5.*,!=2.6.*,!=2.7.*,!=2.8.*,!=2.9.*,<3.0.0dev,>=1.34.1->google-cloud-bigquery) (1.24.0)\n",
            "Requirement already satisfied: grpcio<2.0dev,>=1.33.2 in /usr/local/lib/python3.10/dist-packages (from google-api-core[grpc]!=2.0.*,!=2.1.*,!=2.10.*,!=2.2.*,!=2.3.*,!=2.4.*,!=2.5.*,!=2.6.*,!=2.7.*,!=2.8.*,!=2.9.*,<3.0.0dev,>=1.34.1->google-cloud-bigquery) (1.64.1)\n",
            "Requirement already satisfied: grpcio-status<2.0.dev0,>=1.33.2 in /usr/local/lib/python3.10/dist-packages (from google-api-core[grpc]!=2.0.*,!=2.1.*,!=2.10.*,!=2.2.*,!=2.3.*,!=2.4.*,!=2.5.*,!=2.6.*,!=2.7.*,!=2.8.*,!=2.9.*,<3.0.0dev,>=1.34.1->google-cloud-bigquery) (1.48.2)\n",
            "Requirement already satisfied: cachetools<6.0,>=2.0.0 in /usr/local/lib/python3.10/dist-packages (from google-auth<3.0.0dev,>=2.14.1->google-cloud-bigquery) (5.4.0)\n",
            "Requirement already satisfied: pyasn1-modules>=0.2.1 in /usr/local/lib/python3.10/dist-packages (from google-auth<3.0.0dev,>=2.14.1->google-cloud-bigquery) (0.4.0)\n",
            "Requirement already satisfied: rsa<5,>=3.1.4 in /usr/local/lib/python3.10/dist-packages (from google-auth<3.0.0dev,>=2.14.1->google-cloud-bigquery) (4.9)\n",
            "Requirement already satisfied: google-crc32c<2.0dev,>=1.0 in /usr/local/lib/python3.10/dist-packages (from google-resumable-media<3.0dev,>=0.6.0->google-cloud-bigquery) (1.5.0)\n",
            "Requirement already satisfied: six>=1.5 in /usr/local/lib/python3.10/dist-packages (from python-dateutil<3.0dev,>=2.7.2->google-cloud-bigquery) (1.16.0)\n",
            "Requirement already satisfied: charset-normalizer<4,>=2 in /usr/local/lib/python3.10/dist-packages (from requests<3.0.0dev,>=2.21.0->google-cloud-bigquery) (3.3.2)\n",
            "Requirement already satisfied: idna<4,>=2.5 in /usr/local/lib/python3.10/dist-packages (from requests<3.0.0dev,>=2.21.0->google-cloud-bigquery) (3.7)\n",
            "Requirement already satisfied: urllib3<3,>=1.21.1 in /usr/local/lib/python3.10/dist-packages (from requests<3.0.0dev,>=2.21.0->google-cloud-bigquery) (2.0.7)\n",
            "Requirement already satisfied: certifi>=2017.4.17 in /usr/local/lib/python3.10/dist-packages (from requests<3.0.0dev,>=2.21.0->google-cloud-bigquery) (2024.7.4)\n",
            "Requirement already satisfied: pyasn1<0.7.0,>=0.4.6 in /usr/local/lib/python3.10/dist-packages (from pyasn1-modules>=0.2.1->google-auth<3.0.0dev,>=2.14.1->google-cloud-bigquery) (0.6.0)\n"
          ]
        }
      ]
    },
    {
      "cell_type": "code",
      "source": [
        "from google.colab import auth\n",
        "auth.authenticate_user()"
      ],
      "metadata": {
        "id": "7Pp9IAgmthVp"
      },
      "execution_count": 3,
      "outputs": []
    },
    {
      "cell_type": "code",
      "source": [
        "from google.cloud import bigquery\n",
        "\n",
        "# Substitua 'seu-projeto' pelo ID do seu projeto no Google Cloud\n",
        "client = bigquery.Client(project='crimessp')"
      ],
      "metadata": {
        "id": "DTSiEOdWt26b"
      },
      "execution_count": 4,
      "outputs": []
    },
    {
      "cell_type": "code",
      "source": [
        "from google.colab import files"
      ],
      "metadata": {
        "id": "xlr5tgoBvE0h"
      },
      "execution_count": 5,
      "outputs": []
    },
    {
      "cell_type": "markdown",
      "source": [
        "# Consultando base de dados"
      ],
      "metadata": {
        "id": "46s-a9m8i80X"
      }
    },
    {
      "cell_type": "code",
      "source": [
        "query = \"\"\"\n",
        "SELECT *\n",
        "FROM `crimessp.2019e2020.base_crimes_Qtd_por_Delegacia`\n",
        "\"\"\"\n",
        "query_job = client.query(query)\n",
        "\n",
        "# Converter os resultados em um DataFrame do Pandas\n",
        "df = query_job.to_dataframe()\n",
        "print(df.head())"
      ],
      "metadata": {
        "colab": {
          "base_uri": "https://localhost:8080/"
        },
        "id": "EAsUo0whuFYe",
        "outputId": "175aff46-516b-4f3e-ae57-2fda9eec887d"
      },
      "execution_count": 6,
      "outputs": [
        {
          "output_type": "stream",
          "name": "stdout",
          "text": [
            "                      Delegacia   Ano   Crime  Quantidade Estado     Cidade\n",
            "0  022 DP - São Miguel Paulista  2019  Furtos        2094     SP  São Paulo\n",
            "1          056 DP - Vila Alpina  2019  Furtos        1455     SP  São Paulo\n",
            "2              078 DP - Jardins  2019  Furtos       12278     SP  São Paulo\n",
            "3   2ª DDM - 2ª Seccional - Sul  2019  Furtos           0     SP  São Paulo\n",
            "4         OUTRAS ESPECIALIZADAS  2019  Furtos           4     SP  São Paulo\n"
          ]
        }
      ]
    },
    {
      "cell_type": "code",
      "source": [
        "# Exibir os nomes das colunas para garantir que estamos usando o nome correto\n",
        "print(df.columns)"
      ],
      "metadata": {
        "colab": {
          "base_uri": "https://localhost:8080/"
        },
        "id": "Extd0dnscEXe",
        "outputId": "0cda64be-00ff-4f2c-efbe-2db668b3fd8d"
      },
      "execution_count": 7,
      "outputs": [
        {
          "output_type": "stream",
          "name": "stdout",
          "text": [
            "Index(['Delegacia', 'Ano', 'Crime', 'Quantidade', 'Estado', 'Cidade'], dtype='object')\n"
          ]
        }
      ]
    },
    {
      "cell_type": "code",
      "source": [
        "# Listar todas as delegacias presentes no arquivo\n",
        "delegacias = df['Delegacia'].unique()\n",
        "print(delegacias)"
      ],
      "metadata": {
        "colab": {
          "base_uri": "https://localhost:8080/"
        },
        "id": "f7nhh-OVcGVg",
        "outputId": "4f5fa480-c365-4d50-b738-b3d8553487df"
      },
      "execution_count": 8,
      "outputs": [
        {
          "output_type": "stream",
          "name": "stdout",
          "text": [
            "['022 DP - São Miguel Paulista' '056 DP - Vila Alpina' '078 DP - Jardins'\n",
            " '2ª DDM - 2ª Seccional - Sul' 'OUTRAS ESPECIALIZADAS'\n",
            " 'Delegacia do Idoso - 7ª Seccional - Itaquera' '028 DP - Freguesia do Ó'\n",
            " '030 DP - Tatuapé' '014 DP - Pinheiros' '019 DP - Vila Maria'\n",
            " '051 DP - Butantã' '074 DP - Jaraguá' '5ª DDM - 5ª Seccional - Leste'\n",
            " '067 DP - Jardim Robru' '093 DP - Jaguaré' '063 DP - Vila Jacuí'\n",
            " '1ª DDM - 1ª Seccional - Centro' '099 DP - Campo Grande'\n",
            " '103 DP - Cohab Itaquera' '087 DP - Vila Pereira Barreto' '012 DP - Pari'\n",
            " '043 DP - Cidade Ademar' '01 DP Pessoa com Deficiência'\n",
            " '035 DP - Jabaquara' '041 DP - Vila Rica' '054 DP - Cidade Tiradentes'\n",
            " '046 DP - Perus' '065 DP - Artur Alvim' '100 DP - Jardim Herculano'\n",
            " '3ª DDM - 3ª Seccional - Oeste'\n",
            " 'Delegacia do Idoso - 5ª Seccional - Leste' '023 DP - Perdizes'\n",
            " '039 DP - Vila Gustavo'\n",
            " 'Delegacia de Proteção ao Idoso - 1ª Seccional - Centro'\n",
            " 'Delegacia do Idoso - 3ª Seccional - Oeste'\n",
            " '092 DP - Parque Santo Antônio' 'Del. Aeroporto SP - Congonhas'\n",
            " '021 DP - Vila Matilde' '059 DP - Jardim Noemia'\n",
            " '069 DP - Teotônio Vilela' '075 DP - Jardim Arpoador'\n",
            " '038 DP - Vila Amália' '068 DP - Lajeado' '089 DP - Portal do Morumbi'\n",
            " '101 DP - Jardim das Imbuias' '6ª DDM - 6ª Seccional - Santo Amaro'\n",
            " '016 DP - Vila Clementino' '002 DP - Bom Retiro' '036 DP - Vila Mariana'\n",
            " 'Delegacia do Idoso - 2ª Seccional - Sul' '018 DP - Alto da Moóca'\n",
            " '026 DP - Sacomã' '077 DP - Santa Cecília' '032 DP - Itaquera'\n",
            " 'Delegacia do Idoso - 6ª Secional - Santo Amaro'\n",
            " '003 DP - Campos Elísios' '037 DP - Campo Limpo'\n",
            " '057 DP - Parque da Moóca' '001 DP - Sé' '095 DP - Heliópolis'\n",
            " '7ª DDM - 7ª Seccional - Itaquera'\n",
            " 'Del. Aeroporto Int. SP - Guarulhos (SP)' '007 DP - Lapa'\n",
            " '049 DP - São Mateus' '058 DP - Vila Formosa'\n",
            " 'Delegacia do Idoso - 8ª Seccional - São Mateus' '020 DP - Água Fria'\n",
            " '072 DP - Vila Penteado' '013 DP - Casa Verde' '033 DP - Pirituba'\n",
            " 'Del. Pol. Atendimento ao Turista' '045 DP - Vila Brasilândia'\n",
            " '053 DP - Parque do Carmo' 'Del. Aeroporto Int. Viracopos - CPS (SP)'\n",
            " 'Delegacia Porto de Santos (SP)' '090 DP - Parque Novo Mundo'\n",
            " '010 DP - Penha de França' '085 DP - Jardim Mirna' '011 DP - Santo Amaro'\n",
            " '4ª DDM - 4ª Seccional - Norte' '048 DP - Cidade Dutra'\n",
            " '055 DP - Parque São Rafael' '9ª DDM - 3ª Seccional - Oeste'\n",
            " '005 DP - Aclimação' '006 DP - Cambuci' '098 DP - Jardim Míriam'\n",
            " '029 DP - Vila Diva' '050 DP - Itaim Paulista' '070 DP - Vila Ema'\n",
            " '042 DP - Parque São Lucas' '091 DP - Ceagesp'\n",
            " 'Central de Flagrantes II - 91 DP' '064 DP - Cidade A E Carvalho'\n",
            " '066 DP - Vale do Aricanduva' '073 DP - Jaçanã' '083 DP - Parque Bristol'\n",
            " '8ª DDM - 8ª Seccional São Mateus' 'DELPOL Metropolitano' '008 DP - Brás'\n",
            " '015 DP - Itaim Bibi' '025 DP - Parelheiros' '034 DP - Vila Sonia'\n",
            " '004 DP - Consolação' '017 DP - Ipiranga' '102 DP - Socorro'\n",
            " 'Delegacia do Idoso - 4ª Seccional - Norte' '052 DP - Parque São Jorge'\n",
            " '047 DP - Capão Redondo' '062 DP - Ermelino Matarazzo' '096 DP - Monções'\n",
            " '044 DP - Guaianazes' '081 DP - Belém' '009 DP - Carandiru'\n",
            " '031 DP - Vila Carrão' '080 DP - Vila Joaniza' '097 DP - Americanópolis'\n",
            " '027 DP - Campo Belo' '040 DP - Vila Santa Maria' '024 DP - Ponte Rasa']\n"
          ]
        }
      ]
    },
    {
      "cell_type": "code",
      "source": [
        "# Criar um dicionário para mapear as delegacias para seus endereços\n",
        "enderecos_delegacias = {\n",
        "    'Delegacia do Idoso - 7ª Seccional - Itaquera': 'Av. Itaquera, 1340, São Paulo, SP',\n",
        "    '063 DP - Vila Jacuí': 'R. Fernandes da Cunha, 123, São Paulo, SP',\n",
        "    '001 DP - Sé': 'Pça. Alfredo Issa, 57, São Paulo, SP',\n",
        "    '007 DP - Brás': 'Rua do Brás, 361, São Paulo, SP',\n",
        "    '015 DP - Itaim Bibi': 'Rua Dr. Guilherme Bannitz, 89, São Paulo, SP',\n",
        "    '029 DP - Vila Diva': 'Rua Miguel Rachid, 153, São Paulo, SP',\n",
        "    '050 DP - Itaim Paulista': 'Rua Ken Sugaya, 532, São Paulo, SP',\n",
        "    '095 DP - Heliópolis': 'Rua da Coroa, 41, São Paulo, SP',\n",
        "    '7ª DDM - 7ª Seccional - Itaquera': 'Av. Itaquera, 1450, São Paulo, SP',\n",
        "    'Del. Aeroporto Int. SP - Guarulhos (SP)': 'Aeroporto Internacional de Guarulhos, São Paulo, SP',\n",
        "    '045 DP - Vila Brasilândia': 'R. Parapuã, 1827, São Paulo, SP',\n",
        "    '053 DP - Parque do Carmo': 'Rua Evangelina, 1992, São Paulo, SP',\n",
        "    'Del. Aeroporto Int. Viracopos - CPS (SP)': 'Aeroporto Internacional de Viracopos, Campinas, SP',\n",
        "    'Delegacia Porto de Santos (SP)': 'Porto de Santos, Santos, SP',\n",
        "    '028 DP - Freguesia do Ó': 'R. Bonifácio Cubas, 103, São Paulo, SP',\n",
        "    '030 DP - Tatuapé': 'Rua Coelho Lisboa, 432, São Paulo, SP',\n",
        "    '016 DP - Vila Clementino': 'R. Estado de Israel, 777, São Paulo, SP',\n",
        "    '068 DP - Lajeado': 'R. Boipeva, 164, São Paulo, SP',\n",
        "    '089 DP - Portal do Morumbi': 'Av. Giovanni Gronchi, 5730, São Paulo, SP',\n",
        "    '101 DP - Jardim das Imbuias': 'Av. Sen. Teotônio Vilela, 2200, São Paulo, SP',\n",
        "    '6ª DDM - 6ª Seccional - Santo Amaro': 'Av. Santo Amaro, 7913, São Paulo, SP',\n",
        "    '092 DP - Parque Santo Antônio': 'R. Padre José Garzotti, 157, São Paulo, SP',\n",
        "    'Del. Aeroporto SP - Congonhas': 'Aeroporto de Congonhas, São Paulo, SP',\n",
        "    '027 DP - Campo Belo': 'Rua Demóstenes, 601, São Paulo, SP',\n",
        "    '040 DP - Vila Santa Maria': 'R. Altinópolis, 253, São Paulo, SP',\n",
        "    '007 DP - Lapa': 'R. Albion, 320, São Paulo, SP',\n",
        "    '049 DP - São Mateus': 'R. Forte do Araxá, 200, São Paulo, SP',\n",
        "    '058 DP - Vila Formosa': 'Rua Américo Gomes da Costa, 208, São Paulo, SP',\n",
        "    'Delegacia do Idoso - 8ª Seccional - São Mateus': 'Av. Mateo Bei, 1885, São Paulo, SP',\n",
        "    '023 DP - Perdizes': 'Rua Apiacás, 190, São Paulo, SP',\n",
        "    '039 DP - Vila Gustavo': 'Rua Major Dantas Cortez, 246, São Paulo, SP',\n",
        "    'Delegacia de Proteção ao Idoso - 1ª Seccional - Centro': 'R. do Carmo, 98, São Paulo, SP',\n",
        "    'Delegacia do Idoso - 3ª Seccional - Oeste': 'R. Cardeal Arcoverde, 2306, São Paulo, SP',\n",
        "    '099 DP - Campo Grande': 'R. do Mirante, 118, São Paulo, SP',\n",
        "    '103 DP - Cohab Itaquera': 'Rua Virgínia Ferni, 400, São Paulo, SP',\n",
        "    '048 DP - Cidade Dutra': 'Rua Apuá, 439, São Paulo, SP',\n",
        "    '055 DP - Parque São Rafael': 'R. Muniz de Souza, 383, São Paulo, SP',\n",
        "    '9ª DDM - 3ª Seccional - Oeste': 'Av. Dr. Arnaldo, 141, São Paulo, SP',\n",
        "    '042 DP - Parque São Lucas': 'R. Ken Sugaya, 678, São Paulo, SP',\n",
        "    '091 DP - Ceagesp': 'Av. Dr. Gastão Vidigal, 1946, São Paulo, SP',\n",
        "    'Central de Flagrantes II - 91 DP': 'Rua João Boemer, 1055, São Paulo, SP',\n",
        "    '002 DP - Bom Retiro': 'Rua Anhaia, 151, São Paulo, SP',\n",
        "    '036 DP - Vila Mariana': 'R. Sebastião Afonso, 194, São Paulo, SP',\n",
        "    'Delegacia do Idoso - 2ª Seccional - Sul': 'Rua João Moura, 101, São Paulo, SP',\n",
        "    '038 DP - Vila Amália': 'Rua Miguel Gonçalves Correia, 320, São Paulo, SP',\n",
        "    '021 DP - Vila Matilde': 'Rua Dr. Aureliano Barreiros, 19, São Paulo, SP',\n",
        "    '059 DP - Jardim Noemia': 'Rua Paulo de Avelar, 104, São Paulo, SP',\n",
        "    '069 DP - Teotônio Vilela': 'Av. Senador Teotônio Vilela, 3500, São Paulo, SP',\n",
        "    '075 DP - Jardim Arpoador': 'Rua Deputado João Sussumu Hirata, 62, São Paulo, SP',\n",
        "    '044 DP - Guaianazes': 'Rua Salvador Gianetti, 2282, São Paulo, SP',\n",
        "    '081 DP - Belém': 'Rua Siqueira Bueno, 2166, São Paulo, SP',\n",
        "    '003 DP - Campos Elísios': 'Alameda Nothmann, 218, São Paulo, SP',\n",
        "    '067 DP - Jardim Robru': 'Rua São Gonçalo do Rio das Pedras, 100, São Paulo, SP',\n",
        "    '093 DP - Jaguaré': 'Avenida Presidente Altino, 2310, São Paulo, SP',\n",
        "    '035 DP - Jabaquara': 'Avenida Engenheiro Armando de Arruda Pereira, 2350, São Paulo, SP',\n",
        "    '041 DP - Vila Rica': 'Rua Nossa Senhora do Ó, 1100, São Paulo, SP',\n",
        "    '054 DP - Cidade Tiradentes': 'Rua Sarah Kubitschek, 105, São Paulo, SP',\n",
        "    '032 DP - Itaquera': 'Rua Sabbado D`Angelo, 43, São Paulo, SP',\n",
        "    'Delegacia do Idoso - 6ª Seccional - Santo Amaro': 'Avenida Santo Amaro, 7800, São Paulo, SP',\n",
        "    '025 DP - Parelheiros': 'Rua Sadamu Inoue, 5252, São Paulo, SP',\n",
        "    '034 DP - Vila Sonia': 'Rua Alvarenga, 4224, São Paulo, SP',\n",
        "    '1ª DDM - 1ª Seccional - Centro': 'Rua Dr. Jorge Miranda, 155, São Paulo, SP',\n",
        "    '004 DP - Consolação': 'Rua da Consolação, 247, São Paulo, SP',\n",
        "    '017 DP - Ipiranga': 'Rua Clímaco Barbosa, 58, São Paulo, SP',\n",
        "    '102 DP - Socorro': 'Rua Cassiano dos Santos, 182, São Paulo, SP',\n",
        "    'Delegacia do Idoso - 4ª Seccional - Norte': 'Rua Darzan, 31, São Paulo, SP',\n",
        "    '010 DP - Penha de França': 'Rua Dr. João Ribeiro, 398, São Paulo, SP',\n",
        "    '085 DP - Jardim Mirna': 'Rua Bento Gonçalves, 945, São Paulo, SP',\n",
        "    '052 DP - Parque São Jorge': 'Rua Dr. Clementino, 325, São Paulo, SP',\n",
        "    '012 DP - Pari': 'Rua Rio Bonito, 1313, São Paulo, SP',\n",
        "    '043 DP - Cidade Ademar': 'Rua Maria Cuofono Salzano, 311, São Paulo, SP',\n",
        "    '01 DP Pessoa com Deficiência': 'Rua Brigadeiro Tobias, 527, São Paulo, SP',\n",
        "    '005 DP - Aclimação': 'Rua Muniz de Souza, 614, São Paulo, SP',\n",
        "    '024 DP - Ponte Rasa': 'Rua Heloísa Pamplona, 268, São Paulo, SP',\n",
        "    '014 DP - Pinheiros': 'Rua Deputado Lacerda Franco, 335, São Paulo, SP',\n",
        "    '019 DP - Vila Maria': 'Rua Juruá, 201, São Paulo, SP',\n",
        "    '051 DP - Butantã': 'Rua Pereira do Lago, 51, São Paulo, SP',\n",
        "    '074 DP - Jaraguá': 'Rua Maria Amália Lopes de Azevedo, 301, São Paulo, SP',\n",
        "    '5ª DDM - 5ª Seccional - Leste': 'Rua Sapopemba, 3740, São Paulo, SP',\n",
        "    '064 DP - Cidade A E Carvalho': 'Rua Álvaro Guimarães, 141, São Paulo, SP',\n",
        "    '066 DP - Vale do Aricanduva': 'Rua Armando Pimentel, 200, São Paulo, SP',\n",
        "    '073 DP - Jaçanã': 'Rua João Afonso, 342, São Paulo, SP',\n",
        "    '083 DP - Parque Bristol': 'Rua Solene, 520, São Paulo, SP',\n",
        "    '8ª DDM - 8ª Seccional São Mateus': 'Rua Pio XI, 2200, São Paulo, SP',\n",
        "    'DELPOL Metropolitano': 'Rua das Monções, 1245, São Paulo, SP',\n",
        "    '008 DP - Brás': 'Rua do Brás, 361, São Paulo, SP',\n",
        "    '015 DP - Itaim Bibi': 'Rua Dario Pimentel, 1980, São Paulo, SP',\n",
        "    '029 DP - Vila Diva': 'Rua Teodoro Sampaio, 1564, São Paulo, SP',\n",
        "    '050 DP - Itaim Paulista': 'Rua do Itaim Paulista, 731, São Paulo, SP',\n",
        "    '070 DP - Vila Ema': 'Rua São Caetano, 1005, São Paulo, SP',\n",
        "    '006 DP - Cambuci': 'Rua Marcílio Dias, 146, São Paulo, SP',\n",
        "    '098 DP - Jardim Míriam': 'Rua Mário Júnior, 785, São Paulo, SP',\n",
        "    '018 DP - Alto da Moóca': 'Rua Da Moóca, 2012, São Paulo, SP',\n",
        "    '026 DP - Sacomã': 'Rua Fernandes Pimentel, 600, São Paulo, SP',\n",
        "    '077 DP - Santa Cecília': 'Rua Piauí, 156, São Paulo, SP',\n",
        "    '022 DP - São Miguel Paulista': 'Rua São Miguel, 181, São Paulo, SP',\n",
        "    '056 DP - Vila Alpina': 'Rua do Tabor, 142, São Paulo, SP',\n",
        "    '078 DP - Jardins': 'Rua dos Jardins, 987, São Paulo, SP',\n",
        "    '2ª DDM - 2ª Seccional - Sul': 'Rua Abilio Soares, 1000, São Paulo, SP',\n",
        "    'OUTRAS ESPECIALIZADAS': 'Rua Dr. Barros Júnior, 197, São Paulo, SP',\n",
        "    '011 DP - Santo Amaro': 'Rua Adolfo Pinheiro, 501, São Paulo, SP',\n",
        "    '4ª DDM - 4ª Seccional - Norte': 'Rua Doutor Arnaldo, 270, São Paulo, SP',\n",
        "    '047 DP - Capão Redondo': 'Rua Dr. José de Barros, 1050, São Paulo, SP',\n",
        "    '062 DP - Ermelino Matarazzo': 'Rua Domingos Criscio, 256, São Paulo, SP',\n",
        "    '096 DP - Monções': 'Rua João Pedro, 1391, São Paulo, SP',\n",
        "    '037 DP - Campo Limpo': 'Rua Demóstenes, 187, São Paulo, SP',\n",
        "    '057 DP - Parque da Moóca': 'Rua Apiaí, 546, São Paulo, SP',\n",
        "    '046 DP - Perus': 'Rua Rodrigues dos Santos, 1011, São Paulo, SP',\n",
        "    '065 DP - Artur Alvim': 'Rua Vicente de Carvalho, 1823, São Paulo, SP',\n",
        "    '100 DP - Jardim Herculano': 'Rua Aracaju, 442, São Paulo, SP',\n",
        "    '3ª DDM - 3ª Seccional - Oeste': 'Rua Dona Adma Jafet, 1010, São Paulo, SP',\n",
        "    'Delegacia do Idoso - 5ª Seccional - Leste': 'Rua Sampaio Vidal, 1234, São Paulo, SP',\n",
        "    '013 DP - Casa Verde': 'Rua Isidoro de Souza, 752, São Paulo, SP',\n",
        "    '033 DP - Pirituba': 'Rua Arthur de Azevedo, 1524, São Paulo, SP',\n",
        "    'Del. Pol. Atendimento ao Turista': 'Rua dos Três Irmãos, 245, São Paulo, SP',\n",
        "    '009 DP - Carandiru': 'Rua Isidoro de Souza, 295, São Paulo, SP',\n",
        "    '031 DP - Vila Carrão': 'Rua Cândido Rodrigues, 723, São Paulo, SP',\n",
        "    '080 DP - Vila Joaniza': 'Rua Vila Joaniza, 876, São Paulo, SP',\n",
        "    '097 DP - Americanópolis': 'Rua Palmira, 1015, São Paulo, SP',\n",
        "    '020 DP - Água Fria': 'Rua Francisco de Morais, 678, São Paulo, SP',\n",
        "    '072 DP - Vila Penteado': 'Rua Ilha Bela, 432, São Paulo, SP',\n",
        "    '090 DP - Parque Novo Mundo': 'Rua João Maria, 1597, São Paulo, SP',\n",
        "    '087 DP - Vila Pereira Barreto': 'Rua das Flores, 879, São Paulo, SP',\n",
        "}\n"
      ],
      "metadata": {
        "id": "t34ttaOQcMQZ"
      },
      "execution_count": 9,
      "outputs": []
    },
    {
      "cell_type": "code",
      "source": [
        "# Aplicar o mapeamento à coluna \"Endereço\"\n",
        "df['Endereco'] = df['Delegacia'].map(enderecos_delegacias)"
      ],
      "metadata": {
        "id": "GP8EdSHmlx1_"
      },
      "execution_count": 10,
      "outputs": []
    },
    {
      "cell_type": "code",
      "source": [
        "# Mostrar as primeiras linhas do DataFrame para verificar\n",
        "print(df.head())"
      ],
      "metadata": {
        "colab": {
          "base_uri": "https://localhost:8080/"
        },
        "id": "sSSJZYBUlz1O",
        "outputId": "349477ce-36e2-42e8-8a46-4aa4275f7996"
      },
      "execution_count": 11,
      "outputs": [
        {
          "output_type": "stream",
          "name": "stdout",
          "text": [
            "                      Delegacia   Ano   Crime  Quantidade Estado     Cidade  \\\n",
            "0  022 DP - São Miguel Paulista  2019  Furtos        2094     SP  São Paulo   \n",
            "1          056 DP - Vila Alpina  2019  Furtos        1455     SP  São Paulo   \n",
            "2              078 DP - Jardins  2019  Furtos       12278     SP  São Paulo   \n",
            "3   2ª DDM - 2ª Seccional - Sul  2019  Furtos           0     SP  São Paulo   \n",
            "4         OUTRAS ESPECIALIZADAS  2019  Furtos           4     SP  São Paulo   \n",
            "\n",
            "                                    Endereco  \n",
            "0         Rua São Miguel, 181, São Paulo, SP  \n",
            "1           Rua do Tabor, 142, São Paulo, SP  \n",
            "2        Rua dos Jardins, 987, São Paulo, SP  \n",
            "3     Rua Abilio Soares, 1000, São Paulo, SP  \n",
            "4  Rua Dr. Barros Júnior, 197, São Paulo, SP  \n"
          ]
        }
      ]
    },
    {
      "cell_type": "code",
      "source": [
        "# Salvar o arquivo CSV atualizado\n",
        "output_file_path = '/content/base_crimes_Qtd_por_Delegacia.csv'\n",
        "df.to_csv(output_file_path, index=False)"
      ],
      "metadata": {
        "id": "pF8epra0Yttf"
      },
      "execution_count": 12,
      "outputs": []
    },
    {
      "cell_type": "code",
      "source": [
        "print(df.info())"
      ],
      "metadata": {
        "colab": {
          "base_uri": "https://localhost:8080/"
        },
        "id": "LDS88AULn6jb",
        "outputId": "8cf797f4-a203-48ac-933f-80b29c17cab9"
      },
      "execution_count": 13,
      "outputs": [
        {
          "output_type": "stream",
          "name": "stdout",
          "text": [
            "<class 'pandas.core.frame.DataFrame'>\n",
            "RangeIndex: 4046 entries, 0 to 4045\n",
            "Data columns (total 7 columns):\n",
            " #   Column      Non-Null Count  Dtype \n",
            "---  ------      --------------  ----- \n",
            " 0   Delegacia   4046 non-null   object\n",
            " 1   Ano         4046 non-null   Int64 \n",
            " 2   Crime       4046 non-null   object\n",
            " 3   Quantidade  4046 non-null   Int64 \n",
            " 4   Estado      4046 non-null   object\n",
            " 5   Cidade      4046 non-null   object\n",
            " 6   Endereco    4012 non-null   object\n",
            "dtypes: Int64(2), object(5)\n",
            "memory usage: 229.3+ KB\n",
            "None\n"
          ]
        }
      ]
    },
    {
      "cell_type": "code",
      "source": [
        "# Baixar o arquivo CSV\n",
        "files.download('base_crimes_Qtd_por_Delegacia.csv')"
      ],
      "metadata": {
        "colab": {
          "base_uri": "https://localhost:8080/",
          "height": 17
        },
        "id": "oo1goUuqu1MM",
        "outputId": "fe1e40aa-9ba9-4378-dcf2-6ce3daa7a0ec"
      },
      "execution_count": 14,
      "outputs": [
        {
          "output_type": "display_data",
          "data": {
            "text/plain": [
              "<IPython.core.display.Javascript object>"
            ],
            "application/javascript": [
              "\n",
              "    async function download(id, filename, size) {\n",
              "      if (!google.colab.kernel.accessAllowed) {\n",
              "        return;\n",
              "      }\n",
              "      const div = document.createElement('div');\n",
              "      const label = document.createElement('label');\n",
              "      label.textContent = `Downloading \"${filename}\": `;\n",
              "      div.appendChild(label);\n",
              "      const progress = document.createElement('progress');\n",
              "      progress.max = size;\n",
              "      div.appendChild(progress);\n",
              "      document.body.appendChild(div);\n",
              "\n",
              "      const buffers = [];\n",
              "      let downloaded = 0;\n",
              "\n",
              "      const channel = await google.colab.kernel.comms.open(id);\n",
              "      // Send a message to notify the kernel that we're ready.\n",
              "      channel.send({})\n",
              "\n",
              "      for await (const message of channel.messages) {\n",
              "        // Send a message to notify the kernel that we're ready.\n",
              "        channel.send({})\n",
              "        if (message.buffers) {\n",
              "          for (const buffer of message.buffers) {\n",
              "            buffers.push(buffer);\n",
              "            downloaded += buffer.byteLength;\n",
              "            progress.value = downloaded;\n",
              "          }\n",
              "        }\n",
              "      }\n",
              "      const blob = new Blob(buffers, {type: 'application/binary'});\n",
              "      const a = document.createElement('a');\n",
              "      a.href = window.URL.createObjectURL(blob);\n",
              "      a.download = filename;\n",
              "      div.appendChild(a);\n",
              "      a.click();\n",
              "      div.remove();\n",
              "    }\n",
              "  "
            ]
          },
          "metadata": {}
        },
        {
          "output_type": "display_data",
          "data": {
            "text/plain": [
              "<IPython.core.display.Javascript object>"
            ],
            "application/javascript": [
              "download(\"download_77657d0b-e973-41dc-bfab-02560e20a4ce\", \"base_crimes_Qtd_por_Delegacia.csv\", 449576)"
            ]
          },
          "metadata": {}
        }
      ]
    }
  ]
}